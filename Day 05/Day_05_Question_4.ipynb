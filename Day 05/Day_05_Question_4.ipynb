{
  "nbformat": 4,
  "nbformat_minor": 0,
  "metadata": {
    "colab": {
      "name": "Day 05- Question 4",
      "provenance": [],
      "collapsed_sections": []
    },
    "kernelspec": {
      "name": "python3",
      "display_name": "Python 3"
    }
  },
  "cells": [
    {
      "cell_type": "code",
      "metadata": {
        "id": "p0FHX97yfMmh",
        "colab_type": "code",
        "colab": {
          "base_uri": "https://localhost:8080/",
          "height": 34
        },
        "outputId": "64f72cca-5d9b-4167-e70c-af87eb31b5aa"
      },
      "source": [
        "b='Dr. Darshan Ingle @AI-ML Trainer'\n",
        "a=b.lower()\n",
        "print(a)"
      ],
      "execution_count": null,
      "outputs": [
        {
          "output_type": "stream",
          "text": [
            "dr. darshan ingle @ai-ml trainer\n"
          ],
          "name": "stdout"
        }
      ]
    },
    {
      "cell_type": "code",
      "metadata": {
        "id": "ylOHm367fadq",
        "colab_type": "code",
        "colab": {
          "base_uri": "https://localhost:8080/",
          "height": 34
        },
        "outputId": "b2c0fd8d-1ba6-497a-ac17-a908f23efc17"
      },
      "source": [
        "\n",
        "l=[]\n",
        "for i in range(len(a)):\n",
        "    x=( a[i].isalpha())\n",
        "    \n",
        "    if (x==True):\n",
        "      print(a[i],end='')"
      ],
      "execution_count": null,
      "outputs": [
        {
          "output_type": "stream",
          "text": [
            "drdarshaningleaimltrainer"
          ],
          "name": "stdout"
        }
      ]
    }
  ]
}