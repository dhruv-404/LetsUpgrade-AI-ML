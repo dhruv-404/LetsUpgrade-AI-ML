{
  "nbformat": 4,
  "nbformat_minor": 0,
  "metadata": {
    "colab": {
      "name": "Day 05- Question 3",
      "provenance": [],
      "collapsed_sections": []
    },
    "kernelspec": {
      "name": "python3",
      "display_name": "Python 3"
    }
  },
  "cells": [
    {
      "cell_type": "code",
      "metadata": {
        "id": "LMoki9LGjOm_",
        "colab_type": "code",
        "colab": {}
      },
      "source": [
        "from numpy import *\n",
        "a='eye'\n",
        "b='bye'\n",
        "c=1\n",
        "if(len(a)!=len(b)):\n",
        "  print('None')\n"
      ],
      "execution_count": null,
      "outputs": []
    },
    {
      "cell_type": "code",
      "metadata": {
        "id": "RoJvmnxatbzG",
        "colab_type": "code",
        "colab": {
          "base_uri": "https://localhost:8080/",
          "height": 34
        },
        "outputId": "f0e661c7-14a7-453e-ee3e-477f34645dfd"
      },
      "source": [
        "##################Palindrome####################\n",
        "\n",
        "\n",
        "\n",
        "\n",
        "for i in range(len(a)):\n",
        "    \n",
        "  if (a[i]!=b[len(a)-i-1]):\n",
        "      \n",
        "        c=0\n",
        "    \n",
        "  if (c==0): \n",
        "      print(\"String is not a palindrome\")   \n",
        "      break\n",
        "\n",
        "if(c==1):\n",
        "  print(\"String is a palindrome and an anagram\")\n"
      ],
      "execution_count": null,
      "outputs": [
        {
          "output_type": "stream",
          "text": [
            "String is not a palindrome\n"
          ],
          "name": "stdout"
        }
      ]
    },
    {
      "cell_type": "code",
      "metadata": {
        "id": "Ww-TjYOYtImX",
        "colab_type": "code",
        "colab": {
          "base_uri": "https://localhost:8080/",
          "height": 69
        },
        "outputId": "7b16d29b-88b3-4b00-9644-67a75bf00761"
      },
      "source": [
        "##############Anagram################\n",
        "\n",
        "for i in range(len(a)):\n",
        "  c=0\n",
        "  for j in range(len(a)):\n",
        "    if (a[i]==b[j]):\n",
        "      c=1\n",
        "      b=b.replace(b[j],'#' , 1) \n",
        "      print(b)  \n",
        "  if(c==0):\n",
        "    print('not an an anagram')\n",
        "    break    \n",
        "\n",
        "if(c==1):      \n",
        "  print('Anagram')      \n",
        "    \n",
        "    \n",
        "\n"
      ],
      "execution_count": null,
      "outputs": [
        {
          "output_type": "stream",
          "text": [
            "by#\n",
            "b##\n",
            "not an an anagram\n"
          ],
          "name": "stdout"
        }
      ]
    },
    {
      "cell_type": "code",
      "metadata": {
        "id": "kyF4YfAmjvOu",
        "colab_type": "code",
        "colab": {
          "base_uri": "https://localhost:8080/",
          "height": 34
        },
        "outputId": "08279818-8063-4994-c872-c2e15118d219"
      },
      "source": [
        "len(b)"
      ],
      "execution_count": null,
      "outputs": [
        {
          "output_type": "execute_result",
          "data": {
            "text/plain": [
              "1"
            ]
          },
          "metadata": {
            "tags": []
          },
          "execution_count": 48
        }
      ]
    }
  ]
}